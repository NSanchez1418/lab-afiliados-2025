{
  "cells": [
    {
      "cell_type": "markdown",
      "metadata": {},
      "source": [
        "---\n",
        "title: \"Lab Visualización — Afiliados 2025 (Ene–Ago)\"\n",
        "format:\n",
        "  html:\n",
        "    toc: false\n",
        "---\n",
        "\n",
        "# Laboratorio de Visualización — Afiliados 2025 (Ene–Ago)\n",
        "\n",
        "Este sitio contiene **tres visualizaciones** creadas en Python a partir del dataset combinado (enero–agosto 2025).\n",
        "\n",
        "- 👉 Abre **Visualizaciones** en la barra superior para ver los gráficos.\n",
        "- Fuente de datos: archivos mensuales combinados en `data/dataset.csv`.\n"
      ]
    }
  ],
  "metadata": {
    "kernelspec": {
      "name": "python3",
      "language": "python",
      "display_name": "Python 3 (qt311)",
      "path": "C:\\Users\\Martin Sanchez\\AppData\\Roaming\\jupyter\\kernels\\python3"
    }
  },
  "nbformat": 4,
  "nbformat_minor": 4
}