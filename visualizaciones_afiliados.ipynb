{
  "cells": [
    {
      "cell_type": "code",
      "metadata": {},
      "source": [
        "2 + 2"
      ],
      "execution_count": null,
      "outputs": []
    },
    {
      "cell_type": "markdown",
      "metadata": {},
      "source": [
        "---\n",
        "title: \"Visualizaciones — Afiliados 2025 (Ene–Ago)\"\n",
        "engine: jupyter\n",
        "jupyter: mia311     # usa el kernel que registraste arriba\n",
        "---\n",
        "\n",
        "\n",
        "## 1) Cargar datos"
      ]
    },
    {
      "cell_type": "code",
      "metadata": {},
      "source": [
        "import pandas as pd\n",
        "import matplotlib.pyplot as plt\n",
        "\n",
        "plt.rcParams[\"figure.figsize\"] = (9, 5)\n",
        "plt.rcParams[\"axes.grid\"] = True\n",
        "plt.rcParams[\"figure.autolayout\"] = True\n",
        "\n",
        "df = pd.read_csv(\"data/dataset.csv\")\n",
        "df.head()"
      ],
      "execution_count": null,
      "outputs": []
    },
    {
      "cell_type": "code",
      "metadata": {},
      "source": [
        "df.columns.tolist(), df.select_dtypes(\"number\").columns.tolist()"
      ],
      "execution_count": null,
      "outputs": []
    }
  ],
  "metadata": {
    "kernelspec": {
      "name": "mia311",
      "language": "python",
      "display_name": "mia311",
      "path": "C:\\Users\\Martin Sanchez\\AppData\\Roaming\\jupyter\\kernels\\mia311"
    }
  },
  "nbformat": 4,
  "nbformat_minor": 4
}